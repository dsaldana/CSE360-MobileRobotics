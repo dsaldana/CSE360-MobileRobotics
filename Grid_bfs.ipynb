{
 "cells": [
  {
   "cell_type": "code",
   "execution_count": 1,
   "metadata": {},
   "outputs": [
    {
     "name": "stdout",
     "output_type": "stream",
     "text": [
      "Populating the interactive namespace from numpy and matplotlib\n"
     ]
    }
   ],
   "source": [
    "%pylab inline"
   ]
  },
  {
   "cell_type": "markdown",
   "metadata": {},
   "source": [
    "## 1. Define a Grid where the cells with obstacles are occupied\n",
    "Example, a grid of 40x60 in a rectangular map of 2x3 m^2. The obstacles are random.\n",
    "\n",
    "NOTE: for the workshop, you will not fill them randomly. It will be depending on the obstacles."
   ]
  },
  {
   "cell_type": "code",
   "execution_count": 35,
   "metadata": {},
   "outputs": [],
   "source": [
    "n, m = 4,6  # number of rows and columns respectively."
   ]
  },
  {
   "cell_type": "code",
   "execution_count": 36,
   "metadata": {},
   "outputs": [
    {
     "data": {
      "text/plain": [
       "array([[0., 0., 0., 0., 0., 0.],\n",
       "       [0., 1., 1., 0., 0., 0.],\n",
       "       [0., 1., 0., 0., 0., 1.],\n",
       "       [0., 1., 1., 0., 0., 0.]])"
      ]
     },
     "execution_count": 36,
     "metadata": {},
     "output_type": "execute_result"
    }
   ],
   "source": [
    "# Create a matrix to represent the cells of the grid\n",
    "grid_cells = np.zeros((4,6))\n",
    "\n",
    "# Random obstacles for this example. \n",
    "np.random.seed(0)  # You can remove the random seed if you want to test different random grids.\n",
    "grid = np.random.rand(4, 6)\n",
    "threshold = 0.8\n",
    "grid[grid > threshold] = 1\n",
    "grid[grid<= threshold] = 0\n",
    "\n",
    "grid"
   ]
  },
  {
   "cell_type": "code",
   "execution_count": 154,
   "metadata": {},
   "outputs": [
    {
     "data": {
      "image/png": "[encoded data removed]",
      "text/plain": [
       "<Figure size 432x288 with 1 Axes>"
      ]
     },
     "metadata": {
      "needs_background": "light"
     },
     "output_type": "display_data"
    }
   ],
   "source": [
    "# Plot the grid\n",
    "def draw_grid():\n",
    "    fig, ax = plt.subplots()\n",
    "    cmap = colors.ListedColormap(['0.9', 'black']) # Colors (0.9 is the almost white in gray scale)\n",
    "    ax.imshow(grid, cmap=cmap, origin='lower')\n",
    "    ax.grid(which='major', axis='both', linestyle='-', color='k', linewidth=2)\n",
    "    ax.set_xticks(np.arange(-0.5, m, 1));\n",
    "    ax.set_yticks(np.arange(-0.5, n, 1));\n",
    "\n",
    "draw_grid()"
   ]
  },
  {
   "cell_type": "markdown",
   "metadata": {},
   "source": [
    "## 2. Create a graph to represent the grid\n",
    "Every cell is a node, and adjecent vertices are connected by edges."
   ]
  },
  {
   "cell_type": "code",
   "execution_count": 73,
   "metadata": {},
   "outputs": [
    {
     "name": "stdout",
     "output_type": "stream",
     "text": [
      "Number of nodes in a full grid (n*m):  24\n",
      "Number of nodes after removing obstacles:  18\n",
      "Nodes [(0, 0), (0, 1), (0, 2), (0, 3), (0, 4), (0, 5), (1, 0), (1, 3), (1, 4), (1, 5), (2, 0), (2, 2), (2, 3), (2, 4), (3, 0), (3, 3), (3, 4), (3, 5)]\n"
     ]
    }
   ],
   "source": [
    "import networkx as nx\n",
    "# This function automatically creates the graph in a grid.\n",
    "G = nx.grid_2d_graph(n, m) \n",
    "print(\"Number of nodes in a full grid (n*m): \",len(G.nodes()))\n",
    "# Delete nodes with obstacles\n",
    "for i in range(n):\n",
    "    for j in range(m):\n",
    "        # if the node is an obstacle\n",
    "        if grid[i][j] == 1:  \n",
    "            G.remove_node((i,j))\n",
    "\n",
    "print(\"Number of nodes after removing obstacles: \",len(G.nodes()))\n",
    "print(\"Nodes:\", G.nodes())"
   ]
  },
  {
   "cell_type": "markdown",
   "metadata": {},
   "source": [
    "## Plot the graph\n",
    "\n"
   ]
  },
  {
   "cell_type": "code",
   "execution_count": 116,
   "metadata": {},
   "outputs": [
    {
     "data": {
      "image/png": "[encoded data removed]",
      "text/plain": [
       "<Figure size 432x288 with 1 Axes>"
      ]
     },
     "metadata": {},
     "output_type": "display_data"
    }
   ],
   "source": [
    "# Position of the nodes\n",
    "pos = {node:(node[1], node[0]) for node in G.nodes()}  # by making (x,y) = (j, i), where i and j iterate over the columns and the rows respectively.\n",
    "nx.draw(G, pos, font_size=10, with_labels=True, node_size=700, node_color=\"g\")"
   ]
  },
  {
   "cell_type": "markdown",
   "metadata": {},
   "source": [
    "### Overlapping the grid and graph"
   ]
  },
  {
   "cell_type": "code",
   "execution_count": 161,
   "metadata": {},
   "outputs": [
    {
     "data": {
      "image/png": "[encoded data removed]",
      "text/plain": [
       "<Figure size 432x288 with 1 Axes>"
      ]
     },
     "metadata": {},
     "output_type": "display_data"
    }
   ],
   "source": [
    "# Plot grid\n",
    "draw_grid()\n",
    "\n",
    "# Plot the graph\n",
    "pos = {node:(node[1], node[0]) for node in G.nodes()}  # by making (x,y) = j, -i, where i and j iterate over the columns and the rows respectively.\n",
    "nx.draw(G, pos, font_size=10, with_labels=True, node_size=700, node_color=\"g\")\n"
   ]
  },
  {
   "cell_type": "markdown",
   "metadata": {},
   "source": [
    "# 3. Find a path between a pair of nodes\n",
    "\n",
    "For example: Start at node (3.5) and move to node (3.0). Find a path using the Breadth-First-Search algorithm"
   ]
  },
  {
   "cell_type": "code",
   "execution_count": 164,
   "metadata": {},
   "outputs": [
    {
     "name": "stdout",
     "output_type": "stream",
     "text": [
      "[(3, 5), (3, 4), (2, 4), (1, 4), (0, 4), (0, 3), (0, 2), (0, 1), (0, 0), (1, 0), (2, 0), (3, 0)]\n"
     ]
    }
   ],
   "source": [
    "start_node =  (3, 5)\n",
    "end_node = (3,0)\n",
    "\n",
    "# Run BFS to generate a tree\n",
    "bfs_tree = nx.bfs_tree(H, source=start_node)\n"
   ]
  },
  {
   "cell_type": "code",
   "execution_count": 175,
   "metadata": {},
   "outputs": [
    {
     "data": {
      "image/png": "[encoded data removed]",
      "text/plain": [
       "<Figure size 432x288 with 1 Axes>"
      ]
     },
     "metadata": {},
     "output_type": "display_data"
    }
   ],
   "source": [
    "# plot the result of BSF\n",
    "draw_grid()\n",
    "nx.draw(bfs_tree, pos = pos)"
   ]
  },
  {
   "cell_type": "code",
   "execution_count": null,
   "metadata": {},
   "outputs": [],
   "source": [
    "\n",
    "# Pick the last element and iterate through its predecessors\n",
    "path = [end_node]   # A path in a graph is a set of connected nodes\n",
    "current = end_node\n",
    "\n",
    "# iterate through its predecessors until finding source node\n",
    "while current != start_node:\n",
    "    # Predecesors of the current node        \n",
    "    for pre in bfs_tree.predecessors(current):\n",
    "        current = pre\n",
    "    # add the predecessor to the path\n",
    "    path.append(pre)\n",
    "        \n",
    "# The current path starts in the goal node and ends at the start node. So we invert it\n",
    "path = path[::-1]\n",
    "\n",
    "# Correct path\n",
    "print(path)"
   ]
  },
  {
   "cell_type": "markdown",
   "metadata": {},
   "source": [
    "## Plot the result"
   ]
  },
  {
   "cell_type": "code",
   "execution_count": 189,
   "metadata": {},
   "outputs": [
    {
     "data": {
      "text/plain": [
       "<matplotlib.collections.LineCollection at 0x7f1f8fd30668>"
      ]
     },
     "execution_count": 189,
     "metadata": {},
     "output_type": "execute_result"
    },
    {
     "data": {
      "image/png": "[encoded data removed]",
      "text/plain": [
       "<Figure size 432x288 with 1 Axes>"
      ]
     },
     "metadata": {},
     "output_type": "display_data"
    }
   ],
   "source": [
    "# Edges of the path\n",
    "E = [(path[i], path[i+1])for i in range(len(path)-1)]\n",
    "\n",
    "draw_grid()\n",
    "nx.draw_networkx_nodes(path, pos)\n",
    "nx.draw_networkx_edges(G, nodes=path, edgelist=E, pos=pos,edge_color='r')\n"
   ]
  }
 ],
 "metadata": {
  "kernelspec": {
   "display_name": "Python 3",
   "language": "python",
   "name": "python3"
  },
  "language_info": {
   "codemirror_mode": {
    "name": "ipython",
    "version": 3
   },
   "file_extension": ".py",
   "mimetype": "text/x-python",
   "name": "python",
   "nbconvert_exporter": "python",
   "pygments_lexer": "ipython3",
   "version": "3.6.9"
  }
 },
 "nbformat": 4,
 "nbformat_minor": 4
}
