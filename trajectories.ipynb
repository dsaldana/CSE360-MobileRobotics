{
 "cells": [
  {
   "cell_type": "code",
   "execution_count": null,
   "metadata": {
    "colab": {
     "base_uri": "https://localhost:8080/",
     "height": 35
    },
    "colab_type": "code",
    "id": "3yS4iSSX7qkE",
    "outputId": "6747fa48-4123-400d-c86b-eabfda392d5a"
   },
   "outputs": [],
   "source": [
    "%pylab inline\n",
    "plt.style.use('dark_background')\n",
    "pylab.rcParams['figure.figsize'] = (10.0, 6.0)"
   ]
  },
  {
   "cell_type": "markdown",
   "metadata": {},
   "source": [
    "# Polynomial Trajectories"
   ]
  },
  {
   "cell_type": "code",
   "execution_count": null,
   "metadata": {
    "colab": {
     "base_uri": "https://localhost:8080/",
     "height": 374
    },
    "colab_type": "code",
    "id": "AUUrZhOkmGTA",
    "outputId": "578d5b40-af46-4a88-b770-589f7c57ce7b"
   },
   "outputs": [],
   "source": [
    "def point_to_point_traj(x1, x2, v1, v2, delta_t):\n",
    "  t = np.linspace(0, delta_t, 100)  \n",
    "  a0 = x1\n",
    "  a1 = v1\n",
    "  a2 = (3*x2 - 3*x1 - 2*v1*delta_t - v2 * delta_t) / (delta_t**2)\n",
    "  a3 = (2*x1 + (v1 + v2) * delta_t  - 2 * x2) / (delta_t**3)\n",
    "\n",
    "  polynomial = a0 + a1 * t + a2 * t**2 + a3 * t**3\n",
    "  derivative = a1 + 2*a2 * t + 3 * a3 * t**2\n",
    "  return polynomial, derivative\n",
    "\n",
    "\n",
    "def piecewise2D (X,Y, Vx, Vy, T):\n",
    "    theta_x, theta_y, dx, dy = [], [], [], []\n",
    "\n",
    "    for i in range(len(P)-1):          \n",
    "        theta_xi, dxi = point_to_point_traj(X[i], X[i+1], Vx[i], Vx[i+1], T[i+1] - T[i])\n",
    "        theta_yi, dyi = point_to_point_traj(Y[i], Y[i+1], Vy[i], Vy[i+1], T[i+1] - T[i])\n",
    "\n",
    "        theta_x += theta_xi.tolist()\n",
    "        theta_y += theta_yi.tolist()\n",
    "        dx += dxi.tolist()\n",
    "        dy += dyi.tolist()\n",
    "\n",
    "        plot(theta_xi, theta_yi)\n",
    "    return theta_x, theta_y, dx, dy"
   ]
  },
  {
   "cell_type": "markdown",
   "metadata": {},
   "source": [
    "# Plotting functions"
   ]
  },
  {
   "cell_type": "code",
   "execution_count": null,
   "metadata": {},
   "outputs": [],
   "source": [
    "# Plotting\n",
    "def plot_points():\n",
    "    plot(X,Y, '--')\n",
    "    plot(X,Y, 'o')\n",
    "    quiver(X,Y, Vx, Vy, color='r')\n",
    "    \n",
    "# Speed\n",
    "def plot_speed():\n",
    "    speed = np.sqrt(np.array(dx)**2 + np.array(dy)**2)\n",
    "    plot(speed)"
   ]
  },
  {
   "cell_type": "markdown",
   "metadata": {},
   "source": [
    "# Example 1"
   ]
  },
  {
   "cell_type": "code",
   "execution_count": null,
   "metadata": {
    "colab": {},
    "colab_type": "code",
    "id": "d1zDzutv7zV3"
   },
   "outputs": [],
   "source": [
    "##### Requirements for the trajectory\n",
    "\n",
    "# Waypoints\n",
    "p1 = [0.,0]\n",
    "p2 = [2,3]\n",
    "p3 = [4,5]\n",
    "p4 = [5,-1]\n",
    "p5 = [1,-1]\n",
    "\n",
    "# Velocities\n",
    "v1 = [0,-0.001]\n",
    "v2 = [-1,1]\n",
    "v3 = [1,0]\n",
    "v4 = [-1,1]\n",
    "v5 = [0,-0.001]\n",
    "\n",
    "\n",
    "v1 = [0,-0.001]\n",
    "v2 = [1,1]\n",
    "v3 = [1,0]\n",
    "v4 = [1,1]\n",
    "v5 = [0,-0.001]\n",
    "\n",
    "\n",
    "# Time\n",
    "t1 = 0\n",
    "t2 = 12\n",
    "t3 = 22\n",
    "t4 = 32\n",
    "t5 = 42"
   ]
  },
  {
   "cell_type": "code",
   "execution_count": null,
   "metadata": {
    "colab": {
     "base_uri": "https://localhost:8080/",
     "height": 374
    },
    "colab_type": "code",
    "id": "J6Z7VpZE-F8c",
    "outputId": "1e600584-65f5-4ab5-b505-3ed1f479f706"
   },
   "outputs": [],
   "source": [
    "# Convert the initial conditions to a vector form\n",
    "P = np.vstack((p1, p2, p3, p4, p5))\n",
    "V = np.vstack((v1, v2, v3, v4, v5))\n",
    "T = [t1, t2, t3, t4, t5]\n",
    "\n",
    "X, Y = P[:,0], P[:,1]\n",
    "Vx, Vy = V[:,0], V[:,1]\n",
    "\n",
    "\n",
    "    \n",
    "plot_points()"
   ]
  },
  {
   "cell_type": "code",
   "execution_count": null,
   "metadata": {},
   "outputs": [],
   "source": [
    "# Plot the trajectory that passes trhough the desired waypoints\n",
    "theta_x, theta_y, dx, dy = piecewise2D(X,Y, Vx, Vy, T)\n",
    "plot_points()"
   ]
  },
  {
   "cell_type": "code",
   "execution_count": null,
   "metadata": {
    "colab": {
     "base_uri": "https://localhost:8080/",
     "height": 447
    },
    "colab_type": "code",
    "id": "r_6ppophIX0u",
    "outputId": "ac0f0131-2ec3-4fde-925c-c473f0c0ec62"
   },
   "outputs": [],
   "source": [
    "# Plot speed\n",
    "plot_speed()"
   ]
  },
  {
   "cell_type": "markdown",
   "metadata": {},
   "source": [
    "# Example 2"
   ]
  },
  {
   "cell_type": "code",
   "execution_count": null,
   "metadata": {
    "colab": {
     "base_uri": "https://localhost:8080/",
     "height": 1000
    },
    "colab_type": "code",
    "id": "nMqIDAkeRuzi",
    "outputId": "8fbd74d8-b671-4371-d14a-73d509ef5557"
   },
   "outputs": [],
   "source": [
    "##### Requirements for the trajectory\n",
    "\n",
    "# Waypoints\n",
    "p1 = [5.,0]\n",
    "p2 = [10, 0]\n",
    "p3 = [15,2.5]\n",
    "p4 = [10,5]\n",
    "p5 = [0,5]\n",
    "p6 = [-5,2.5]\n",
    "p7 = [0,0]\n",
    "p8 = [5,0]\n",
    "\n",
    "# Velocities\n",
    "v1 = [0.0001,0.]\n",
    "v2 = [1,0]\n",
    "v3 = [0,1]\n",
    "v4 = [-1,0]\n",
    "v5 = [-1,0]\n",
    "v6 = [0,-1]\n",
    "v7 = [1,0]\n",
    "v8 = [0.0001,0]\n",
    "\n",
    "# Time\n",
    "t1 = 0\n",
    "t2 = t1 + 3\n",
    "t3 = t2 + 5\n",
    "t4 = t3 + 5\n",
    "t5 = t4 + 3\n",
    "t6 = t5 + 5\n",
    "t7 = t6 + 5\n",
    "t8 = t7 + 2\n",
    "\n",
    "\n",
    "# Grouping\n",
    "P = np.vstack((p1, p2, p3, p4, p5, p6, p7, p8))\n",
    "V = np.vstack((v1, v2, v3, v4, v5, v6, v7, v8))\n",
    "T = [t1, t2, t3, t4, t5, t6, t7, t8]\n",
    "\n",
    "X, Y = P[:,0], P[:,1]\n",
    "Vx, Vy = V[:,0], V[:,1]\n",
    "\n",
    "# Plotting\n",
    "plot_points()\n",
    "show()\n",
    "\n",
    "# Piecewise function\n",
    "theta_x, theta_y, dx, dy = piecewise2D(X,Y, Vx, Vy, T)\n",
    "\n",
    "# Plotting\n",
    "quiver(X,Y, Vx, Vy, color='r')  #\n",
    "\n",
    "show()\n",
    "plot_speed()"
   ]
  },
  {
   "cell_type": "markdown",
   "metadata": {},
   "source": [
    "# Moving the point in time\n",
    "Be sure that you have JSAnimation installed. If not pip install JSAnimation"
   ]
  },
  {
   "cell_type": "code",
   "execution_count": null,
   "metadata": {
    "colab": {},
    "colab_type": "code",
    "id": "jnCxeNwmT_Kw"
   },
   "outputs": [],
   "source": [
    "import matplotlib.pyplot as plt\n",
    "from matplotlib import animation\n",
    "from JSAnimation import IPython_display    \n",
    "from IPython.display import HTML\n",
    "    \n",
    "\n",
    "\n",
    "fig, ax = plt.subplots()\n",
    "\n",
    "def animate(t):\n",
    "    ax.clear()\n",
    "    \n",
    "    # Path\n",
    "    ax.plot(theta_x, theta_y, 'b--')\n",
    "    \n",
    "    # Initial conditions\n",
    "    ax.plot(X,Y, 'go')\n",
    "    ax.quiver(X,Y, Vx, Vy, color='0.4', scale=20)\n",
    "        \n",
    "    # Dynamic position\n",
    "    ax.plot(theta_x[t], theta_y[t], 'ro', markersize=10)\n",
    "       \n",
    "    # Velocity vector\n",
    "    ax.quiver([theta_x[t]], [theta_y[t]], [dx[t]], [dy[t]], color='r', units='xy', scale=10/np.linalg.norm([theta_x[t], theta_y[t]]))\n",
    "    \n",
    "\n",
    "anim = animation.FuncAnimation(fig, animate, frames=int(len(theta_x)/1), interval=25)\n",
    "\n",
    "\n",
    "HTML(anim.to_jshtml())"
   ]
  },
  {
   "cell_type": "code",
   "execution_count": null,
   "metadata": {},
   "outputs": [],
   "source": [
    "# Export the movie to mp4\n",
    "Be sure that you have the ffmpeg codec installed (sudo apt-get install ffmpeg)."
   ]
  },
  {
   "cell_type": "code",
   "execution_count": null,
   "metadata": {
    "colab": {
     "base_uri": "https://localhost:8080/",
     "height": 54
    },
    "colab_type": "code",
    "id": "yKLnWyHlwEDV",
    "outputId": "d764f30b-34b1-41a3-d90d-4f65bdc543c2"
   },
   "outputs": [],
   "source": [
    "anim.save('trajectory2.mp4', dpi=300)"
   ]
  }
 ],
 "metadata": {
  "colab": {
   "collapsed_sections": [],
   "name": "trajectories",
   "provenance": []
  },
  "kernelspec": {
   "display_name": "Python 3 (ipykernel)",
   "language": "python",
   "name": "python3"
  },
  "language_info": {
   "codemirror_mode": {
    "name": "ipython",
    "version": 3
   },
   "file_extension": ".py",
   "mimetype": "text/x-python",
   "name": "python",
   "nbconvert_exporter": "python",
   "pygments_lexer": "ipython3",
   "version": "3.8.8"
  }
 },
 "nbformat": 4,
 "nbformat_minor": 4
}
